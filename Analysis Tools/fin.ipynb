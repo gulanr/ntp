{
 "cells": [
  {
   "cell_type": "code",
   "execution_count": 25,
   "metadata": {},
   "outputs": [],
   "source": [
    "import numpy as np\n",
    "import matplotlib.pyplot as plt\n",
    "from findiff import FinDiff,Coefficient,BoundaryConditions,PDE"
   ]
  },
  {
   "cell_type": "code",
   "execution_count": 39,
   "metadata": {},
   "outputs": [
    {
     "name": "stdout",
     "output_type": "stream",
     "text": [
      "101\n",
      "21\n"
     ]
    }
   ],
   "source": [
    "# Geometry\n",
    "\n",
    "# Radius in [m]\n",
    "r_i = 0.006\n",
    "r_interface = 0.008\n",
    "r_o = 0.010\n",
    "\n",
    "# Angle in [rad]\n",
    "theta_0 = 0\n",
    "theta_1 = np.pi/3\n",
    "\n",
    "# Grid size\n",
    "dr = 0.00004\n",
    "dr2 = dr**2\n",
    "r = np.arange(r_i,r_o,dr)\n",
    "r = np.append(r,r_o)\n",
    "n_r = len(r)\n",
    "print(n_r)\n",
    "ind_interface = (np.abs(r-r_interface)).argmin()\n",
    "\n",
    "dtheta = np.pi/60\n",
    "dtheta2 = dtheta**2\n",
    "theta = np.arange(theta_0,theta_1,dtheta)\n",
    "theta = np.append(theta,theta_1)\n",
    "n_theta = len(theta)\n",
    "print(n_theta)\n",
    "\n",
    "# Time steps\n",
    "t = 0\n",
    "dt = 0.0000001\n",
    "\n",
    "# Thermal properties\n",
    "# k = [W/m-K]\n",
    "# rho = [kg/m^3]\n",
    "# c_p = [J/kg-k]\n",
    "\n",
    "# Alumina properties\n",
    "k_i = 30\n",
    "rho_i = 3900\n",
    "c_p_i = 500\n",
    "\n",
    "# Graphite properties\n",
    "k_o = 400\n",
    "rho_o = 2250\n",
    "c_p_o = 707\n",
    "\n",
    "# Convection properties\n",
    "k = 30\n",
    "mdot = 150*0.00129/60\n",
    "mu = 1.81e-5\n",
    "c_p = 1005\n",
    "d = 0.00730\n",
    "h = k*d*0.023*(mdot*d/mu)**0.8*(mu*c_p/k)**0.4\n",
    "T_f = 300\n",
    "T_const = 575\n",
    "\n",
    "R,Theta = np.meshgrid(r,theta,indexing='ij')\n",
    "f_polar = R**2"
   ]
  },
  {
   "cell_type": "code",
   "execution_count": 57,
   "metadata": {},
   "outputs": [],
   "source": [
    "laplace_polar = (FinDiff(0, dr, 2) + Coefficient(1/R) * FinDiff(0, dr) + Coefficient(1/R**2) * FinDiff(1, dtheta, 2))\n",
    "\n",
    "bc = BoundaryConditions((n_r,n_theta))\n",
    "bc[n_r-1,0:int(n_theta/2)] = T_const\n",
    "bc[n_r-1,int(n_theta/2):n_theta-1] = FinDiff(0,dr,1), 0\n",
    "bc[:,0] = FinDiff(1,dtheta,1), 0\n",
    "bc[:,n_theta-1] = FinDiff(1,dtheta,1), 0\n",
    "bc[0,:] = 300\n",
    "\n",
    "pde = PDE(laplace_polar,f_polar,bc)\n",
    "u = pde.solve()"
   ]
  },
  {
   "cell_type": "code",
   "execution_count": 58,
   "metadata": {},
   "outputs": [
    {
     "data": {
      "text/plain": [
       "<matplotlib.colorbar.Colorbar at 0x2062ecdd370>"
      ]
     },
     "execution_count": 58,
     "metadata": {},
     "output_type": "execute_result"
    },
    {
     "data": {
      "image/png": "[encoded data removed]",
      "text/plain": [
       "<Figure size 432x288 with 2 Axes>"
      ]
     },
     "metadata": {
      "needs_background": "light"
     },
     "output_type": "display_data"
    },
    {
     "data": {
      "image/png": "[encoded data removed]",
      "text/plain": [
       "<Figure size 432x288 with 2 Axes>"
      ]
     },
     "metadata": {
      "needs_background": "light"
     },
     "output_type": "display_data"
    }
   ],
   "source": [
    "fig,ax = plt.subplots()\n",
    "x = np.zeros((n_r-2,n_theta-1))\n",
    "y = np.zeros((n_r-2,n_theta-1))\n",
    "for i in range(n_r-2):\n",
    "    for j in range(n_theta-1):\n",
    "        x[i,j] = r[i]*np.cos(theta[j])\n",
    "        y[i,j] = r[i]*np.sin(theta[j])\n",
    "ax.axis('equal')\n",
    "cf = plt.contourf(x,y,u[1:n_r-1,0:n_theta-1])\n",
    "cbar = plt.colorbar(cf)\n",
    "\n",
    "fig = plt.subplots()\n",
    "x = np.arange(0,n_r)\n",
    "y = np.arange(0,n_theta)\n",
    "X,Y = np.meshgrid(x,y)\n",
    "cf = plt.contourf(X,Y,np.transpose(u))\n",
    "plt.colorbar()"
   ]
  }
 ],
 "metadata": {
  "interpreter": {
   "hash": "2f665900e6e5ed51ca7f389189ca7a5ab8fa90c394b54000ee29e6be9f623909"
  },
  "kernelspec": {
   "display_name": "Python 3.8.8 ('Python38')",
   "language": "python",
   "name": "python3"
  },
  "language_info": {
   "codemirror_mode": {
    "name": "ipython",
    "version": 3
   },
   "file_extension": ".py",
   "mimetype": "text/x-python",
   "name": "python",
   "nbconvert_exporter": "python",
   "pygments_lexer": "ipython3",
   "version": "3.8.8"
  },
  "orig_nbformat": 4
 },
 "nbformat": 4,
 "nbformat_minor": 2
}
