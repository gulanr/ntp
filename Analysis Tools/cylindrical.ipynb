{
 "cells": [
  {
   "cell_type": "code",
   "execution_count": 362,
   "metadata": {},
   "outputs": [],
   "source": [
    "import numpy as np\n",
    "import matplotlib.pyplot as plt\n",
    "import pandas as pd\n",
    "from IPython import display\n",
    "import pylab as pl"
   ]
  },
  {
   "cell_type": "code",
   "execution_count": 363,
   "metadata": {},
   "outputs": [],
   "source": [
    "def solver(dt,rho,c_p,k,r,dr,T,dtheta,h,T_f):\n",
    "    # indices: [(i,j),(i-1,j),(i+1,j),(i,j-1),(i,j+1)]\n",
    "\n",
    "    cond_1 = k[1]*(T[1]-T[0])/(dr**2)\n",
    "    cond_2 = k[2]*(T[2]-T[0])/(dr**2)\n",
    "    cond_3 = k[0]*(T[2]-T[1])/(2*r*dr)\n",
    "    cond_4 = k[3]*(T[3]-T[0])/(r**2*dtheta**2)\n",
    "    cond_5 = k[4]*(T[4]-T[0])/(r**2*dtheta**2)\n",
    "\n",
    "    #cond_radial = (k[2]*(r+dr)*(T[2]-T[0]) + k[1]*(r-dr)*(T[1]-T[0])) / (r*dr**2)\n",
    "    #cond_angular = (k[4]*(r)*(T[4]-T[0]) + k[3]*(r)*(T[3]-T[0])) / (r**2*dtheta**2)\n",
    "\n",
    "    #conduction = dt/(rho[0]*c_p[0])*((k[2]*(r+dr)*(T[2]-T[0])/dr-k[1]*(r-dr)*(T[0]-T[1]))/(r*dr)+(k[4]*(r+dr)*(T[4]-T[0])/dtheta-k[3]*(r-dr)*(T[0]-T[3])/dtheta)/(dtheta*r**2))\n",
    "    if h != 0:\n",
    "        convection = h*(T_f-T[0])/(rho[0]*c_p[0]*dr)\n",
    "    else:\n",
    "        convection = 0\n",
    "    \n",
    "    T_new = dt/(rho[0]*c_p[0]) * (cond_1 + cond_2 + cond_3 + cond_4 + cond_5 + convection) + T[0]\n",
    "    return T_new"
   ]
  },
  {
   "cell_type": "code",
   "execution_count": 364,
   "metadata": {},
   "outputs": [
    {
     "name": "stdout",
     "output_type": "stream",
     "text": [
      "11\n",
      "11\n",
      "0.03210705758758255\n",
      "0.0054831935561607545\n"
     ]
    }
   ],
   "source": [
    "# Geometry\n",
    "\n",
    "# Radius in [m]\n",
    "r_i = 0.006\n",
    "r_interface = 0.008\n",
    "r_o = 0.010\n",
    "\n",
    "# Angle in [rad]\n",
    "theta_0 = 0\n",
    "theta_1 = np.pi/3\n",
    "\n",
    "# Grid size\n",
    "dr = 0.0004\n",
    "dr2 = dr**2\n",
    "r = np.arange(r_i,r_o,dr)\n",
    "r = np.append(r,r_o)\n",
    "n_r = len(r)\n",
    "print(n_r)\n",
    "ind_interface = (np.abs(r-r_interface)).argmin()\n",
    "\n",
    "dtheta = np.pi/30\n",
    "dtheta2 = dtheta**2\n",
    "theta = np.arange(theta_0,theta_1,dtheta)\n",
    "theta = np.append(theta,theta_1)\n",
    "n_theta = len(theta)\n",
    "print(n_theta)\n",
    "\n",
    "# Time steps\n",
    "t = 0\n",
    "dt = 0.00000001\n",
    "\n",
    "# Thermal properties\n",
    "# k = [W/m-K]\n",
    "# rho = [kg/m^3]\n",
    "# c_p = [J/kg-k]\n",
    "\n",
    "# Alumina properties\n",
    "k_i = 30\n",
    "rho_i = 3900\n",
    "c_p_i = 500\n",
    "\n",
    "# Graphite properties\n",
    "k_o = 400\n",
    "rho_o = 2250\n",
    "c_p_o = 707\n",
    "\n",
    "# Alumina properties\n",
    "k_i = 1\n",
    "rho_i = 1\n",
    "c_p_i = 1\n",
    "\n",
    "# Graphite properties\n",
    "k_o = 1\n",
    "rho_o = 1\n",
    "c_p_o = 1\n",
    "\n",
    "# Convection properties\n",
    "k = 30\n",
    "mdot = 150*0.00129/60\n",
    "mu = 1.81e-5\n",
    "c_p = 1005\n",
    "d = 0.00730\n",
    "h = k*d*0.023*(mdot*d/mu)**0.8*(mu*c_p/k)**0.4 * 100\n",
    "print(h)\n",
    "T_f = 25\n",
    "\n",
    "# Constant temperature properties\n",
    "T_const = 300\n",
    "\n",
    "T_old = np.ones((n_r,n_theta))*T_const\n",
    "T_new = T_old\n",
    "d2 = [0,dr2,dr2,dtheta2,dtheta2]\n",
    "d = [0,dr,dr,dtheta,dtheta]\n",
    "\n",
    "k_avg = (k_i+k_o)/2\n",
    "rho_avg = (rho_i+rho_o)/2\n",
    "c_p_avg = (c_p_i+c_p_o)/2\n",
    "\n",
    "residual = [np.NaN]\n",
    "n = 0\n",
    "t = [0]\n",
    "\n",
    "dtmax = (dr**2 + dtheta**2)/(2*k_o)\n",
    "print(dtmax)"
   ]
  },
  {
   "cell_type": "code",
   "execution_count": 365,
   "metadata": {},
   "outputs": [],
   "source": [
    "thresh = 1\n",
    "for ind in range(100000):\n",
    "#while (residual[n] > thresh or n==0):\n",
    "    n = n + 1\n",
    "    t.append(t[n-1]+dt)\n",
    "\n",
    "    # Save previous iteration\n",
    "    T_old = T_new\n",
    "    # Initialize new iteration as ones (could be anything, it gets overwritten)\n",
    "    T_new = np.ones((n_r,n_theta))\n",
    "\n",
    "    # Set constant temperature at outer radius\n",
    "    T_new[n_r-1,int(n_theta/2):n_theta] = T_const\n",
    "\n",
    "    # Material properties for outer region\n",
    "    rho_outer = [rho_o,rho_o,rho_o,rho_o,rho_o]\n",
    "    c_p_outer = [c_p_o,c_p_o,c_p_o,c_p_o,c_p_o]\n",
    "    k_outer = [k_o,k_o,k_o,k_o,k_o]\n",
    "\n",
    "    # Material properties for interface region\n",
    "    rho_interface = [rho_avg,rho_i,rho_o,rho_avg,rho_avg]\n",
    "    c_p_interface = [c_p_avg,c_p_i,c_p_o,c_p_avg,c_p_avg]\n",
    "    k_interface = [k_avg,k_i,k_o,k_avg,k_avg]\n",
    "\n",
    "    # Material properties for inner region\n",
    "    rho_inner = [rho_i,rho_i,rho_i,rho_i,rho_i]\n",
    "    c_p_inner = [c_p_i,c_p_i,c_p_i,c_p_i,c_p_i]\n",
    "    k_inner = [k_i,k_i,k_i,k_i,k_i]\n",
    "\n",
    "    # Step through domain by radius, starting at outer radius and going inward\n",
    "    for i in range(n_r-1,-1,-1):\n",
    "        # Solve temperature at adiabatic surface on outer radius\n",
    "        if i == n_r-1:\n",
    "            # Left point\n",
    "            T_local = [T_old[i,0],T_old[i-1,0],T_old[i-1,0],T_old[i,1],T_old[i,1]]\n",
    "            T_new[i,0] = solver(dt,rho_outer,c_p_outer,k_outer,r[i],dr,T_local,dtheta,0,T_f)\n",
    "            # Outer radius (adiabatic in radial direction)\n",
    "            for j in range(1,int(n_theta/2)):\n",
    "                T_local = [T_old[i,j],T_old[i-1,j],T_old[i-1,j],T_old[i,j-1],T_old[i,j+1]]\n",
    "                T_new[i,j] = solver(dt,rho_outer,c_p_outer,k_outer,r[i],dr,T_local,dtheta,0,T_f)\n",
    "\n",
    "        # Material outside of interface\n",
    "        if (i>ind_interface) and (i<n_r-1):\n",
    "            # Left point\n",
    "            T_local = [T_old[i,0],T_old[i-1,0],T_old[i+1,0],T_old[i,1],T_old[i,1]]\n",
    "            T_new[i,0] = solver(dt,rho_outer,c_p_outer,k_outer,r[i],dr,T_local,dtheta,0,T_f)\n",
    "            # Right point\n",
    "            T_local = [T_old[i,n_theta-1],T_old[i-1,n_theta-1],T_old[i+1,n_theta-1],T_old[i,n_theta-2],T_old[i,n_theta-2]]\n",
    "            T_new[i,n_theta-1] = solver(dt,rho_outer,c_p_outer,k_outer,r[i],dr,T_local,dtheta,0,T_f)\n",
    "            # Inner points\n",
    "            for j in range(1,n_theta-1):\n",
    "                T_local = [T_old[i,j],T_old[i-1,j],T_old[i+1,j],T_old[i,j-1],T_old[i,j+1]]\n",
    "                T_new[i,j] = solver(dt,rho_outer,c_p_outer,k_outer,r[i],dr,T_local,dtheta,0,T_f)\n",
    "\n",
    "        # Solve temperature at interface\n",
    "        if (i == ind_interface):\n",
    "            # Left point\n",
    "            T_local = [T_old[i,0],T_old[i-1,0],T_old[i+1,0],T_old[i,1],T_old[i,1]]\n",
    "            T_new[i,0] = solver(dt,rho_interface,c_p_interface,k_interface,r[i],dr,T_local,dtheta,0,T_f)\n",
    "            # Right point\n",
    "            T_local = [T_old[i,n_theta-1],T_old[i-1,n_theta-1],T_old[i+1,n_theta-1],T_old[i,n_theta-2],T_old[i,n_theta-2]]\n",
    "            T_new[i,n_theta-1] = solver(dt,rho_interface,c_p_interface,k_interface,r[i],dr,T_local,dtheta,0,T_f)\n",
    "            # Inner points\n",
    "            for j in range(1,n_theta-1):\n",
    "                T_local = [T_old[i,j],T_old[i-1,j],T_old[i+1,j],T_old[i,j-1],T_old[i,j+1]]\n",
    "                T_new[i,j] = solver(dt,rho_interface,c_p_interface,k_interface,r[i],dr,T_local,dtheta,0,T_f)\n",
    "\n",
    "        # Material inside of interface\n",
    "        if (i < ind_interface) and (i>0):\n",
    "            # Left point\n",
    "            T_local = [T_old[i,0],T_old[i-1,0],T_old[i+1,0],T_old[i,1],T_old[i,1]]\n",
    "            T_new[i,0] = solver(dt,rho_inner,c_p_inner,k_inner,r[i],dr,T_local,dtheta,0,T_f)\n",
    "            # Right point\n",
    "            T_local = [T_old[i,n_theta-1],T_old[i-1,n_theta-1],T_old[i+1,n_theta-1],T_old[i,n_theta-2],T_old[i,n_theta-2]]\n",
    "            T_new[i,n_theta-1] = solver(dt,rho_inner,c_p_inner,k_inner,r[i],dr,T_local,dtheta,0,T_f)\n",
    "            # Inner points\n",
    "            for j in range(1,n_theta-1):\n",
    "                T_local = [T_old[i,j],T_old[i-1,j],T_old[i+1,j],T_old[i,j-1],T_old[i,j+1]]\n",
    "                T_new[i,j] = solver(dt,rho_inner,c_p_inner,k_inner,r[i],dr,T_local,dtheta,0,T_f)\n",
    "        \n",
    "        # Convection boundary\n",
    "        if (i == 0):\n",
    "            # Left point\n",
    "            T_local = [T_old[0,0],T_old[1,0],T_old[1,0],T_old[0,1],T_old[0,1]]\n",
    "            T_new[0,0] = solver(dt,rho_inner,c_p_inner,k_inner,r[i],dr,T_local,dtheta,h,T_f)\n",
    "            # Right point\n",
    "            T_local = [T_old[0,n_theta-1],T_old[1,n_theta-1],T_old[1,n_theta-1],T_old[0,n_theta-2],T_old[0,n_theta-2]]\n",
    "            T_new[0,n_theta-1] = solver(dt,rho_inner,c_p_inner,k_inner,r[i],dr,T_local,dtheta,h,T_f)\n",
    "            # Inner radius (adiabatic in radial direction)\n",
    "            for j in range(1,n_theta-1):\n",
    "                T_local = [T_old[0,j],T_old[1,j],T_old[1,j],T_old[0,j-1],T_old[0,j+1]]\n",
    "                T_new[0,j] = solver(dt,rho_inner,c_p_inner,k_inner,r[i],dr,T_local,dtheta,h,T_f)\n",
    "    \n",
    "    residual.append(np.linalg.norm(T_new)-np.linalg.norm(T_old))"
   ]
  },
  {
   "cell_type": "code",
   "execution_count": 367,
   "metadata": {},
   "outputs": [
    {
     "name": "stderr",
     "output_type": "stream",
     "text": [
      "<ipython-input-367-0a19acf8d432>:26: RuntimeWarning: divide by zero encountered in log\n",
      "  convergence_rate.append(np.log(np.abs(residual[i])/np.abs(residual[i-1]))/np.log(dt))\n",
      "<ipython-input-367-0a19acf8d432>:26: RuntimeWarning: divide by zero encountered in double_scalars\n",
      "  convergence_rate.append(np.log(np.abs(residual[i])/np.abs(residual[i-1]))/np.log(dt))\n",
      "<ipython-input-367-0a19acf8d432>:26: RuntimeWarning: invalid value encountered in double_scalars\n",
      "  convergence_rate.append(np.log(np.abs(residual[i])/np.abs(residual[i-1]))/np.log(dt))\n"
     ]
    },
    {
     "data": {
      "text/plain": [
       "[<matplotlib.lines.Line2D at 0x1e0063da580>]"
      ]
     },
     "execution_count": 367,
     "metadata": {},
     "output_type": "execute_result"
    },
    {
     "data": {
      "image/png": "[encoded data removed]",
      "text/plain": [
       "<Figure size 432x288 with 2 Axes>"
      ]
     },
     "metadata": {
      "needs_background": "light"
     },
     "output_type": "display_data"
    },
    {
     "data": {
      "image/png": "[encoded data removed]",
      "text/plain": [
       "<Figure size 432x288 with 2 Axes>"
      ]
     },
     "metadata": {
      "needs_background": "light"
     },
     "output_type": "display_data"
    },
    {
     "data": {
      "image/png": "[encoded data removed]",
      "text/plain": [
       "<Figure size 432x288 with 1 Axes>"
      ]
     },
     "metadata": {
      "needs_background": "light"
     },
     "output_type": "display_data"
    },
    {
     "data": {
      "image/png": "[encoded data removed]",
      "text/plain": [
       "<Figure size 432x288 with 1 Axes>"
      ]
     },
     "metadata": {
      "needs_background": "light"
     },
     "output_type": "display_data"
    }
   ],
   "source": [
    "fig,ax = plt.subplots()\n",
    "x = np.zeros((n_r-1,n_theta-1))\n",
    "y = np.zeros((n_r-1,n_theta-1))\n",
    "for i in range(n_r-1):\n",
    "    for j in range(n_theta-1):\n",
    "        x[i,j] = r[i]*np.cos(theta[j])\n",
    "        y[i,j] = r[i]*np.sin(theta[j])\n",
    "ax.axis('equal')\n",
    "cf = plt.contourf(x,y,T_new[0:n_r-1,0:n_theta-1])\n",
    "cbar = plt.colorbar(cf)\n",
    "\n",
    "fig = plt.subplots()\n",
    "x = np.arange(0,n_r)\n",
    "y = np.arange(0,n_theta)\n",
    "X,Y = np.meshgrid(x,y)\n",
    "cf = plt.contourf(X,Y,np.transpose(T_new))\n",
    "plt.colorbar()\n",
    "\n",
    "fig = plt.subplots()\n",
    "plt.semilogy(np.arange(n+1),np.abs(residual))\n",
    "plt.xlabel(\"Iteration\")\n",
    "plt.ylabel(\"Residual\")\n",
    "\n",
    "convergence_rate = []\n",
    "for i in np.arange(1,len(residual),dtype=int):\n",
    "    convergence_rate.append(np.log(np.abs(residual[i])/np.abs(residual[i-1]))/np.log(dt))\n",
    "\n",
    "fig = plt.subplots()\n",
    "plt.semilogy(np.arange(n),convergence_rate)"
   ]
  }
 ],
 "metadata": {
  "interpreter": {
   "hash": "2f665900e6e5ed51ca7f389189ca7a5ab8fa90c394b54000ee29e6be9f623909"
  },
  "kernelspec": {
   "display_name": "Python 3.8.8 ('Python38')",
   "language": "python",
   "name": "python3"
  },
  "language_info": {
   "codemirror_mode": {
    "name": "ipython",
    "version": 3
   },
   "file_extension": ".py",
   "mimetype": "text/x-python",
   "name": "python",
   "nbconvert_exporter": "python",
   "pygments_lexer": "ipython3",
   "version": "3.8.8"
  },
  "orig_nbformat": 4
 },
 "nbformat": 4,
 "nbformat_minor": 2
}
