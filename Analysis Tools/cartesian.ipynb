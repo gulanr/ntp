{
 "cells": [
  {
   "cell_type": "markdown",
   "metadata": {},
   "source": [
    "# Numerical solution of heat transfer in Cartesian coordinates\n",
    "\n",
    "## Setup\n",
    "\n",
    "A rectangle subdivided into 100 points in the $x$ direction and 50 points in the $y$ direction, having,\n",
    "\n",
    "$x_0=0$; $x_1=161$\n",
    "\n",
    "$y_0=0$; $y_1=100$\n",
    "\n",
    "Therefore,\n",
    "\n",
    "$\\Delta x = \\frac{161-0}{100-1}$ and $\\Delta y = \\frac{100-0}{50-1}$\n",
    "\n",
    "The domain has adiabatic boundaries at $x=x_0$ and $x=x_1$, a constant temperature boundary at $y=y_0$, and a convective boundary at $y=y_1$. Furthermore, the domain has a thermal conductivity $k_a$ for $y_0\\leq y < y_1/2$ (the bottom half) and $k_b$ for $y_1/2 < y\\leq y_1$ (the top half).\n",
    "\n",
    "## Derivation of numerical scheme\n",
    "\n",
    "### Model equation\n",
    "\n",
    "The governing equation follows from Fouriers Law and energy conservation:\n",
    "\n",
    "$\\rho c_p \\frac{\\partial T}{\\partial t} - \\nabla\\left(k\\cdot\\nabla T\\right) = 0$\n",
    "\n",
    "In Cartesian coordinates, this is:\n",
    "\n",
    "$\\rho c_p \\frac{\\partial T}{\\partial t} - \\left[ \\frac{\\partial}{\\partial x}\\left(k\\frac{\\partial T}{\\partial x}\\right) + \\frac{\\partial}{\\partial y}\\left(k\\frac{\\partial T}{\\partial y}\\right)\\right] = 0$\n",
    "\n",
    "A simplification may be obtained if we consider that conduction throughout the top and bottom halves of the domain have constant thermal conductivity, and it is only at the interface that the conductivity is a spatial function. Therefore, we may say that the governing equation is:\n",
    "\n",
    "$\\rho c_p \\frac{\\partial T}{\\partial t} - k\\left[ \\frac{\\partial^2 T}{\\partial x^2}+\\frac{\\partial^2 T}{\\partial y^2}\\right]=0$\n",
    "\n",
    "everywhere, except at the interface $\\left(y=y_1/2\\right)$ where it is:\n",
    "\n",
    "$\\rho c_p \\frac{\\partial T}{\\partial t} - \\left[ \\frac{\\partial}{\\partial x}\\left(k\\frac{\\partial T}{\\partial x}\\right) + \\frac{\\partial}{\\partial y}\\left(k\\frac{\\partial T}{\\partial y}\\right)\\right] = 0$\n",
    "\n",
    "Hence, a second-order accurate explicit numerical scheme of the first equation is:\n",
    "\n",
    "$k\\left[ \\frac{\\partial^2 T}{\\partial x^2}+\\frac{\\partial^2 T}{\\partial y^2}\\right] = k\\left[\\frac{T_{i+1,j}-2T_{i,j}+T_{i-1,j}}{\\Delta x^2}+\\frac{T_{i,j+1}-2T_{i,j}+T_{i,j-1}}{\\Delta y^2}\\right]$\n",
    "\n",
    "And for the interface it follows that we use the average thermal conductivity:\n",
    "\n",
    "$\\left[ \\frac{\\partial}{\\partial x}\\left(k\\frac{\\partial T}{\\partial x}\\right) + \\frac{\\partial}{\\partial y}\\left(k\\frac{\\partial T}{\\partial y}\\right)\\right] = \\frac\n",
    "{\\frac{k_b+k_a}{2}\\left(T_{i+1,j}-2T_{i,j}+T_{i-1,j}\\right)}{\\Delta x^2}+\\frac{k_b\\left(T_{i,j+1}-T_{i,j}\\right)-k_a\\left(T_{i,j}-T_{i,j+1}\\right)}{\\Delta y^2}$\n",
    "\n",
    "(for $k_a$ being *below* the interface and $k_b$ above).\n",
    "\n",
    "### Boundary conditions\n",
    "\n",
    "There are several boundary conditions employed in this problem.\n",
    "\n",
    "#### Constant temperature\n",
    "\n",
    "This boundary condition is trivial. No matter what the temperature profile looks like surrounding the boundary, the boundary temperature will always remain constant. In practice, specify this temperature when we initiate the variable containing the temperature distribution, and \"skip over\" those points when solving for all the nodes.\n",
    "\n",
    "#### Adiabatic\n",
    "\n",
    "Adiabatic boundaries have no temperature gradient perpendicular to the boundary. Because the grid is orthogonal to all boundaries, then the heat flux $\\left(k\\nabla T\\right)$ perpendicular to the boundary is 0. In practice, we need a new scheme because the central difference scheme used above is not compatible since some of the points will be \"out of bounds.\" Because both of the adiabatic boundary conditions are along the $y$ direction, we use a forward or backward scheme to represent the $x$ gradient on the \"left\" and \"right\" walls, respectively. This applies to both the \"bulk\" material and at the interface. In practice, we still have a five point stencil, except the stencile is \"symmetric\" about the boundary. For the left wall, this is:\n",
    "\n",
    "$\\rho c_p \\frac{\\partial T}{\\partial t}-k\\left[2\\frac{T_{i+1,j}-T_{i,j}}{\\Delta x^2}+\\frac{T_{i,j+1}-2_{i,j}+T_{i,j-1}}{\\Delta y^2}\\right]=0$\n",
    "\n",
    "For the right wall:\n",
    "\n",
    "$\\rho c_p \\frac{\\partial T}{\\partial t}-k\\left[2\\frac{T_{i-1,j}-T_{i,j}}{\\Delta x^2}+\\frac{T_{i,j+1}-2_{i,j}+T_{i,j-1}}{\\Delta y^2}\\right]=0$\n",
    "\n",
    "At the interface, the $y$ gradient is decomposed to use both thermal conductivities:\n",
    "\n",
    "$\\rho c_p \\frac{\\partial T}{\\partial t}-\\left[2\\frac{k_a+k_b}{2}\\frac{T_{i-1,j}-T_{i,j}}{\\Delta x^2}+\\frac{k_b\\left(T_{i,j+1}-T_{i,j}\\right)-k_a\\left(T_{i,j}-T_{i,j-1}\\right)}{\\Delta y^2}\\right]=0$\n",
    "\n",
    "#### Convection\n",
    "\n",
    "Convective heat transfer has the boundary conduction:\n",
    "\n",
    "$q''_\\text{cond.}=q''_\\text{conv.}$\n",
    "\n",
    "which is expressed as:\n",
    "\n",
    "$\\nabla\\left(k\\nabla T\\right)=h\\left(T-T_\\infty\\right)$\n",
    "\n",
    "In other words, the heat conducted into the cell equals the heat convected away (assuming the fluid temperature is less than the surface temperature). We can write this as the heat conducted by the neighboring points subtracted by the heat convected away. Since the convection boundary is at the \"top\" of the domain, we have:\n",
    "\n",
    "$\\rho c_p \\frac{\\partial T}{\\partial t} -\\left[ k_b\\frac{T_{i+1,j}-2T_{i,j}+T_{i-1,j}}{\\Delta x^2}+k_b\\frac{T_{i,j}-2T_{i,j-1}+T_{i,j-2}}{\\Delta y^2}+\\frac{h}{\\Delta y}\\left(T_{i,j}-T_\\infty\\right)\\right]$\n",
    "\n",
    "with fluid temperature $T_\\infty$, and heat transfer coefficient $h$. Various methods are available to estimate the heat transfer coefficient, typically depending on the Nusselt, Prandtl, and Reynolds numbers.\n",
    "\n",
    "### Time step\n",
    "\n",
    "We may use a forward difference scheme for the time derivative (energy storage term), which is:\n",
    "\n",
    "$\\rho c_p \\frac{\\partial T}{\\partial t}=\\rho c_p \\frac{T_{i,j}^{n+1}-T_{i,j}^n}{\\Delta t}$\n",
    "\n",
    "The final step is to add this finite difference term to the rest of the equations and perform algebra to write the $T_{i.j}^{n+1}$ term on one side and all the $T_{i,j}^n$ terms on the other.\n",
    "\n",
    "### Initial temperature distribution"
   ]
  },
  {
   "cell_type": "markdown",
   "metadata": {},
   "source": [
    "## Imports"
   ]
  },
  {
   "cell_type": "code",
   "execution_count": 28,
   "metadata": {},
   "outputs": [],
   "source": [
    "import numpy as np\n",
    "import matplotlib.pyplot as plt\n",
    "import pandas as pd\n",
    "from IPython import display\n",
    "import pylab as pl"
   ]
  },
  {
   "cell_type": "markdown",
   "metadata": {},
   "source": [
    "## Initialize solver"
   ]
  },
  {
   "cell_type": "markdown",
   "metadata": {},
   "source": [
    "## Define solvers"
   ]
  },
  {
   "cell_type": "code",
   "execution_count": 29,
   "metadata": {},
   "outputs": [],
   "source": [
    "def solve_interior(T,i,j,rho,c_p,k,dx2,dy2,dt):\n",
    "    T_new = dt/(rho*c_p)*k*((T[i+1,j]-2*T[i,j]+T[i-1,j])/dx2 + (T[i,j+1]-2*T[i,j]+T[i,j-1])/dy2) + T[i,j]\n",
    "    return T_new"
   ]
  },
  {
   "cell_type": "code",
   "execution_count": 30,
   "metadata": {},
   "outputs": [],
   "source": [
    "def solve_interface(T,i,j,k_a,k_b,rho,c_p,dx2,dy2,dt):\n",
    "    T_new = dt/(rho*c_p)*(((k_a+k_b)/2*(T[i+1,j]-2*T[i,j]+T[i-1,j]))/dx2 + (k_b*(T[i,j+1]-T[i,j])-k_a*(T[i,j]-T[i,j-1]))/dy2) + T[i,j]\n",
    "    return T_new"
   ]
  },
  {
   "cell_type": "code",
   "execution_count": 31,
   "metadata": {},
   "outputs": [],
   "source": [
    "def solve_adiabatic_left(T,i,j,rho,c_p,k,dx2,dy2,dt):\n",
    "    T_new = dt/(rho*c_p)*k*(2*(T[i+1,j]-T[i,j])/dx2+(T[i,j+1]-2*T[i,j]+T[i,j-1])/dy2) + T[i,j]\n",
    "    return T_new"
   ]
  },
  {
   "cell_type": "code",
   "execution_count": 32,
   "metadata": {},
   "outputs": [],
   "source": [
    "def solve_adiabatic_right(T,i,j,rho,c_p,k,dx2,dy2,dt):\n",
    "    T_new = dt/(rho*c_p)*k*(2*(T[i-1,j]-T[i,j])/dx2+(T[i,j+1]-2*T[i,j]+T[i,j-1])/dy2) + T[i,j]\n",
    "    return T_new"
   ]
  },
  {
   "cell_type": "code",
   "execution_count": 33,
   "metadata": {},
   "outputs": [],
   "source": [
    "def solve_adiabatic_left_interface(T,i,j,k_a,k_b,rho,c_p,dx2,dy2,dt):\n",
    "    T_new = dt/(rho*c_p)*(2*(k_a+k_b)/2*(T[i+1,j]-T[i,j])/dx2+(k_b*(T[i,j+1]-T[i,j])-k_a*(T[i,j]-T[i,j-1]))/dy2) + T[i,j]\n",
    "    return T_new"
   ]
  },
  {
   "cell_type": "code",
   "execution_count": 34,
   "metadata": {},
   "outputs": [],
   "source": [
    "def solve_adiabatic_right_interface(T,i,j,k_a,k_b,rho,c_p,dx2,dy2,dt):\n",
    "    T_new = dt/(rho*c_p)*(2*(k_a+k_b)/2*(T[i-1,j]-T[i,j])/dx2+(k_b*(T[i,j+1]-T[i,j])-k_a*(T[i,j]-T[i,j-1]))/dy2) + T[i,j]\n",
    "    return T_new"
   ]
  },
  {
   "cell_type": "code",
   "execution_count": 35,
   "metadata": {},
   "outputs": [],
   "source": [
    "def solve_convection(T,i,j,k_b,rho,c_p,h,dx2,dy2,dy,dt):\n",
    "    T_new = dt/(rho*c_p)*(k_b*((T[i+1,j]-2*T[i,j]+T[i-1,j])/dx2+(T[i,j]-2*T[i,j-1]+T[i,j-2])/dy2) + h/dy*(T_f - T[i,j])) + T[i,j]\n",
    "    return T_new"
   ]
  },
  {
   "cell_type": "code",
   "execution_count": 36,
   "metadata": {},
   "outputs": [],
   "source": [
    "def solve_convection_corner_left(T,i,j,k_b,rho,c_p,h,dx2,dy2,dy,dt):\n",
    "    T_new = dt/(rho*c_p)*(k_b*((T[i,j]-2*T[i+1,j]+T[i+2,j])/dx2+(T[i,j]-2*T[i,j-1]+T[i,j-2])/dy2) + h/dy*(T_f-T[i,j])) + T[i,j]\n",
    "    return T_new"
   ]
  },
  {
   "cell_type": "code",
   "execution_count": 37,
   "metadata": {},
   "outputs": [],
   "source": [
    "def solve_convection_corner_right(T,i,j,k_b,rho,c_p,h,dx2,dy2,dy,dt):\n",
    "    T_new = dt/(rho*c_p)*(k_b*((T[i,j]-2*T[i-1,j]+T[i-2,j])/dx2+(T[i,j]-2*T[i,j-1]+T[i,j-2])/dy2) + h/dy*(T_f-T[i,j])) + T[i,j]\n",
    "    return T_new"
   ]
  },
  {
   "cell_type": "code",
   "execution_count": 38,
   "metadata": {},
   "outputs": [],
   "source": [
    "def plot_T(x,y,T):\n",
    "    X,Y = np.meshgrid(x,y)\n",
    "    fig = plt.figure()\n",
    "    #levels = [0,1,2,3,4,5,10,25,50,100,150,200,250,300]\n",
    "    cf = plt.contourf(X,Y,np.transpose(T))\n",
    "    cbar = fig.colorbar(cf)"
   ]
  },
  {
   "cell_type": "code",
   "execution_count": 39,
   "metadata": {},
   "outputs": [],
   "source": [
    "def solver(T,rho,c_p,k,h,d2,d,dt,T_f):\n",
    "    # indices: [(i,j),(i-1,j),(i+1,j),(i,j-1),(i,j+1)]\n",
    "    conduction = lambda i: k[i]/(rho[i]*c_p[i])*(T[i]-T[0])/d2[i]\n",
    "    convection = lambda i: h/(rho[i]*c_p[i]*d[i])*(T_f-T[0])\n",
    "    \n",
    "    #T_new = dt * (conduction(1)+conduction(2)+conduction(3)+conduction(4) + convection(1)+convection(2)+convection(3)+convection(4)) + T[0]\n",
    "    T_new = dt * (conduction(1)+conduction(2)+conduction(3)+conduction(4) + convection(4)) + T[0]\n",
    "    return T_new"
   ]
  },
  {
   "cell_type": "code",
   "execution_count": 45,
   "metadata": {},
   "outputs": [
    {
     "name": "stdout",
     "output_type": "stream",
     "text": [
      "0.04210013637249172\n"
     ]
    }
   ],
   "source": [
    "# Geometry\n",
    "x_0 = 0\n",
    "x_1 = 0.004\n",
    "\n",
    "y_0 = 0\n",
    "y_1 = 0.004\n",
    "\n",
    "n_x = 60\n",
    "n_y = 30\n",
    "ind_interface = int(round(n_y/2,2))\n",
    "\n",
    "dx = (x_1 - x_0)/(n_x-1)\n",
    "dx2 = dx**2\n",
    "dy = (y_1 - y_0)/(n_y-1)\n",
    "dy2 = dy**2\n",
    "\n",
    "x = np.linspace(x_0,x_1,n_x)\n",
    "y = np.linspace(y_0,y_1,n_y)\n",
    "\n",
    "# Time steps\n",
    "t = 0\n",
    "dt = 0.000001\n",
    "\n",
    "# Thermal properties\n",
    "# k = [W/m-K]\n",
    "# rho = [kg/m^3]\n",
    "# c_p = [J/kg-k]\n",
    "\n",
    "# Alumina properties\n",
    "k_a = 30\n",
    "rho_a = 3900\n",
    "c_p_a = 500\n",
    "\n",
    "# Graphite properties\n",
    "k_b = 400\n",
    "rho_b = 2250\n",
    "c_p_b = 707\n",
    "\n",
    "# Convection properties\n",
    "k = 30\n",
    "mdot = 150*0.00129/60\n",
    "mu = 1.81e-5\n",
    "c_p = 1005\n",
    "d = np.pi*0.01\n",
    "h = k*d*0.023*(mdot*d/mu)**0.8*(mu*c_p/k)**0.4\n",
    "T_f = 25\n",
    "\n",
    "# Constant temperature properties\n",
    "T_const = 300\n",
    "\n",
    "T = np.ones((n_x,n_y))*200\n",
    "T_new = T\n",
    "d2 = [0,dx2,dx2,dy2,dy2]\n",
    "d = [0,dx,dx,dy,dy]\n",
    "\n",
    "h = 100\n",
    "\n",
    "k_avg = (k_a+k_b)/2\n",
    "rho_avg = (rho_a+rho_b)/2\n",
    "c_p_avg = (c_p_a+c_p_b)/2\n",
    "\n",
    "residual = [np.NaN]\n",
    "n = 0\n",
    "t = [0]\n",
    "\n",
    "print((dx**2+dy**2)/(2*k_a*dx*dy))"
   ]
  },
  {
   "cell_type": "code",
   "execution_count": 48,
   "metadata": {},
   "outputs": [
    {
     "data": {
      "text/plain": [
       "[<matplotlib.lines.Line2D at 0x1b0be6bb910>]"
      ]
     },
     "execution_count": 48,
     "metadata": {},
     "output_type": "execute_result"
    },
    {
     "data": {
      "image/png": "[encoded data removed]",
      "text/plain": [
       "<Figure size 432x288 with 2 Axes>"
      ]
     },
     "metadata": {
      "needs_background": "light"
     },
     "output_type": "display_data"
    },
    {
     "data": {
      "image/png": "[encoded data removed]",
      "text/plain": [
       "<Figure size 432x288 with 1 Axes>"
      ]
     },
     "metadata": {
      "needs_background": "light"
     },
     "output_type": "display_data"
    },
    {
     "data": {
      "image/png": "[encoded data removed]",
      "text/plain": [
       "<Figure size 432x288 with 1 Axes>"
      ]
     },
     "metadata": {
      "needs_background": "light"
     },
     "output_type": "display_data"
    }
   ],
   "source": [
    "for ind in range(2000):\n",
    "#thresh = 0.001\n",
    "#while (residual[n] > thresh or n==0):\n",
    "    n = n + 1\n",
    "    t.append(t[n-1]+dt)\n",
    "\n",
    "    T = T_new\n",
    "    T_new = np.ones((n_x,n_y))\n",
    "\n",
    "    # Set constant temperature boundary condition at first row\n",
    "    T_new[:,0] = T_const\n",
    "\n",
    "    # Set adiabatic for half of first row\n",
    "    rho = [rho_a,rho_a,rho_a,rho_a,rho_a]\n",
    "    c_p = [c_p_a,c_p_a,c_p_a,c_p_a,c_p_a]\n",
    "    k = [k_a,k_a,k_a,k_a,k_a]\n",
    "    ind_half = int(n_x/2)\n",
    "    T_0 = [T[0,0],T[1,0],T[1,0],T[0,1],T[0,1]]\n",
    "    T_new[0,0] = solver(T_0,rho,c_p,k,0,d2,d,dt,0)\n",
    "    for i in np.arange(0,ind_half,dtype=int):\n",
    "        T_1 = [T[0,0],T[i-1,0],T[i+1,0],T[0,1],T[0,1]]\n",
    "        T_new[i,0] = solver(T_1,rho,c_p,k,0,d2,d,dt,0)\n",
    "\n",
    "\n",
    "    # Step through the second row to the row just before the interface\n",
    "    \n",
    "    for j in np.arange(1,ind_interface,dtype=int):\n",
    "        T_1 = [T[0,j],T[1,j],T[1,j],T[0,j-1],T[0,j+1]]\n",
    "        T_2 = [T[n_x-1,j],T[n_x-2,j],T[n_x-2,j],T[n_x-1,j-1],T[n_x-1,j+1]]\n",
    "        # Solve left side\n",
    "        T_new[0,j] = solver(T_1,rho,c_p,k,0,d2,d,dt,0)\n",
    "        # Solve right side\n",
    "        T_new[n_x-1,j] = solver(T_2,rho,c_p,k,0,d2,d,dt,0)\n",
    "        # Solve interior points\n",
    "        for i in np.arange(1,n_x-1,dtype=int):\n",
    "            T_3 = [T[i,j],T[i-1,j],T[i+1,j],T[i,j-1],T[i,j+1]]\n",
    "            T_new[i,j] = solver(T_3,rho,c_p,k,0,d2,d,dt,0)\n",
    "\n",
    "    # Solve for the interface\n",
    "    j = ind_interface\n",
    "    rho = [rho_avg,rho_avg,rho_avg,rho_a,rho_b]\n",
    "    c_p = [c_p_avg,c_p_avg,c_p_avg,c_p_a,c_p_b]\n",
    "    k = [k_avg,k_avg,k_avg,k_a,k_b]\n",
    "    # Solve left side\n",
    "    T_4 = [T[0,j],T[1,j],T[1,j],T[0,j-1],T[0,j+1]]\n",
    "    T_new[0,j] = solver(T_4,rho,c_p,k,0,d2,d,dt,0)\n",
    "    # Solve right side\n",
    "    T_5 = [T[n_x-1,j],T[n_x-2,j],T[n_x-2,j],T[n_x-1,j-1],T[n_x-1,j+1]]\n",
    "    T_new[n_x-1,j] = solver(T_5,rho,c_p,k,0,d2,d,dt,0)\n",
    "    # Solve interior points\n",
    "    for i in np.arange(1,n_x-1,dtype=int):\n",
    "        T_6 = [T[i,j],T[i-1,j],T[i+1,j],T[i,j-1],T[i,j+1]]\n",
    "        T_new[i,j] = solver(T_6,rho,c_p,k,0,d2,d,dt,0)\n",
    "\n",
    "    rho = [rho_b,rho_b,rho_b,rho_b,rho_b]\n",
    "    c_p = [c_p_b,c_p_b,c_p_b,c_p_b,c_p_b]\n",
    "    k = [k_b,k_b,k_b,k_b,k_b]\n",
    "    # Step through the row just after the interface until just before the convection\n",
    "\n",
    "    for j in np.arange(ind_interface+1,n_y-1,dtype=int):\n",
    "        T_7 = [T[0,j],T[1,j],T[1,j],T[0,j-1],T[0,j+1]]\n",
    "        T_8 = [T[n_x-1,j],T[n_x-2,j],T[n_x-2,j],T[n_x-1,j-1],T[n_x-1,j+1]]\n",
    "        # Solve left side\n",
    "        T_new[0,j] = solver(T_7,rho,c_p,k,0,d2,d,dt,0)\n",
    "        # Solve right side\n",
    "        T_new[n_x-1,j] = solver(T_8,rho,c_p,k,0,d2,d,dt,0)\n",
    "        # Solve interior points\n",
    "        for i in np.arange(1,n_x-1,dtype=int):\n",
    "            T_9 = [T[i,j],T[i-1,j],T[i+1,j],T[i,j-1],T[i,j+1]]\n",
    "            T_new[i,j] = solver(T_9,rho,c_p,k,0,d2,d,dt,0)\n",
    "\n",
    "    # Solve the convection boundary\n",
    "    j = n_y-1\n",
    "    # Solve left side\n",
    "    T_10 = [T[0,j],T[1,j],T[1,j],T[0,j-1],T[0,j]]\n",
    "    T_new[0,j] = solver(T_10,rho,c_p,k,h,d2,d,dt,T_f)\n",
    "    # Solve right side\n",
    "    T_11 = [T[n_x-1,j],T[n_x-2,j],T[n_x-2,j],T[n_x-1,j-1],T[n_x-1,j]]\n",
    "    T_new[n_x-1,j] = solver(T_11,rho,c_p,k,h,d2,d,dt,T_f)\n",
    "    # Solve interior points\n",
    "    \n",
    "    for i in np.arange(1,n_x-1,dtype=int):\n",
    "        T_12 = [T[i,j],T[i-1,j],T[i+1,j],T[i,j-1],T[i,j]]\n",
    "        T_new[i,j] = solver(T_12,rho,c_p,k,h,d2,d,dt,T_f)\n",
    "    \n",
    "    residual.append(np.linalg.norm(T_new)-np.linalg.norm(T))\n",
    "\n",
    "#pd.DataFrame(np.flipud(np.transpose(T_new))).to_clipboard()\n",
    "plot_T(x,y,T_new)\n",
    "\n",
    "fig = plt.subplots()\n",
    "plt.semilogy(np.arange(n+1),residual)\n",
    "plt.xlabel(\"Iteration\")\n",
    "plt.ylabel(\"Residual\")\n",
    "\n",
    "convergence_rate = []\n",
    "for i in np.arange(1,len(residual),dtype=int):\n",
    "    convergence_rate.append(np.log(residual[i]/residual[i-1])/np.log(dt))\n",
    "\n",
    "fig = plt.subplots()\n",
    "plt.semilogy(np.arange(n),convergence_rate)\n"
   ]
  },
  {
   "cell_type": "markdown",
   "metadata": {},
   "source": [
    "T = np.ones(n_x,n_y)\n",
    "T_new = T\n",
    "\n",
    "for n in range(500):\n",
    "    T = T_new\n",
    "    T_new = np.ones((n_x,n_y))\n",
    "\n",
    "    # Set constant temperature boundary condition at first row\n",
    "    T_new[:,0] = T_const\n",
    "\n",
    "    # Step through the second row to the row just before the interface\n",
    "    for j in np.arange(1,ind_interface,dtype=int):\n",
    "        T_new[0,j] = solve_adiabatic_left(T,0,j,rho_a,c_p_a,k_a,dx2,dy2,dt)\n",
    "        T_new[n_x-1,j] = solve_adiabatic_right(T,n_x-1,j,rho_a,c_p_a,k_b,dx2,dy2,dt)\n",
    "        for i in np.arange(1,n_x-1,dtype=int):\n",
    "            T_new[i,j] = solve_interior(T,i,j,rho_a,c_p_a,k_a,dx2,dy2,dt)\n",
    "\n",
    "    # Solve for the interface\n",
    "    j = ind_interface\n",
    "    rho = (rho_a+rho_b)/2\n",
    "    c_p = (c_p_a+c_p_b)/2\n",
    "    T_new[0,j] = solve_adiabatic_left_interface(T,0,j,k_a,k_b,rho,c_p,dx2,dy2,dt)\n",
    "    T_new[n_x-1,j] = solve_adiabatic_right_interface(T,n_x-1,j,k_a,k_b,rho,c_p,dx2,dy2,dt)\n",
    "    for i in np.arange(1,n_x-1,dtype=int):\n",
    "        T_new[i,j] = solve_interface(T,i,j,k_a,k_b,rho,c_p,dx2,dy2,dt)\n",
    "\n",
    "    # Step through the row just after the interface until just before the convection\n",
    "    for j in np.arange(ind_interface+1,n_y-1,dtype=int):\n",
    "        T_new[0,j] = solve_adiabatic_left(T,0,j,rho_b,c_p_b,k_a,dx2,dy2,dt)\n",
    "        T_new[n_x-1,j] = solve_adiabatic_right(T,n_x-1,j,rho_b,c_p_b,k_b,dx2,dy2,dt)\n",
    "        for i in np.arange(1,n_x-1,dtype=int):\n",
    "            T_new[i,j] = solve_interior(T,i,j,rho_b,c_p_b,k_a,dx2,dy2,dt)\n",
    "\n",
    "    # Solve the convection boundary\n",
    "    j = n_y-1\n",
    "    T_new[0,j] = solve_convection_corner_left(T,0,j,k_b,rho_b,c_p_b,h,dx2,dy2,dy,dt)\n",
    "    T_new[n_x-1,j] = solve_convection_corner_right(T,n_x-1,j,k_b,rho_b,c_p_b,h,dx2,dy2,dy,dt)\n",
    "    for i in np.arange(1,n_x-1,dtype=int):\n",
    "        T_new[i,j] = solve_convection(T,i,j,k_b,rho_b,c_p_b,h,dx2,dy2,dy,dt)\n",
    "        "
   ]
  }
 ],
 "metadata": {
  "interpreter": {
   "hash": "2f665900e6e5ed51ca7f389189ca7a5ab8fa90c394b54000ee29e6be9f623909"
  },
  "kernelspec": {
   "display_name": "Python 3.8.8 64-bit ('Python38': conda)",
   "language": "python",
   "name": "python3"
  },
  "language_info": {
   "codemirror_mode": {
    "name": "ipython",
    "version": 3
   },
   "file_extension": ".py",
   "mimetype": "text/x-python",
   "name": "python",
   "nbconvert_exporter": "python",
   "pygments_lexer": "ipython3",
   "version": "3.8.8"
  },
  "orig_nbformat": 4
 },
 "nbformat": 4,
 "nbformat_minor": 2
}
